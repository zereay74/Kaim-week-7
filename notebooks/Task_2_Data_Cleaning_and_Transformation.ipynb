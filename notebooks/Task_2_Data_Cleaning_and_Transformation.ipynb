{
 "cells": [
  {
   "cell_type": "code",
   "execution_count": 126,
   "metadata": {},
   "outputs": [],
   "source": [
    "# system imports\n",
    "import os\n",
    "import sys\n",
    "import asyncio\n",
    "sys.path.append(os.path.abspath('..'))# add parent directory to path"
   ]
  },
  {
   "cell_type": "code",
   "execution_count": 127,
   "metadata": {},
   "outputs": [],
   "source": [
    "from importlib import reload\n",
    "import scripts.data_load_clean_transform\n",
    "reload(scripts.data_load_clean_transform)\n",
    "from scripts.data_load_clean_transform import DataLoader, DataCleaner"
   ]
  },
  {
   "cell_type": "code",
   "execution_count": 128,
   "metadata": {},
   "outputs": [
    {
     "name": "stdout",
     "output_type": "stream",
     "text": [
      "2025-01-31 13:59:35,174 - INFO - Data successfully loaded from ../week 7 data/scrapped TG data/telegram_data.csv\n",
      "2025-01-31 13:59:35,174 - INFO - DataFrame Shape: (3635, 6)\n"
     ]
    }
   ],
   "source": [
    "# Load CSV\n",
    "file_path = '../week 7 data/scrapped TG data/telegram_data.csv'\n",
    "Loader = DataLoader(file_path)\n",
    "data = Loader.load_csv()"
   ]
  },
  {
   "cell_type": "code",
   "execution_count": 129,
   "metadata": {},
   "outputs": [
    {
     "data": {
      "text/html": [
       "<div>\n",
       "<style scoped>\n",
       "    .dataframe tbody tr th:only-of-type {\n",
       "        vertical-align: middle;\n",
       "    }\n",
       "\n",
       "    .dataframe tbody tr th {\n",
       "        vertical-align: top;\n",
       "    }\n",
       "\n",
       "    .dataframe thead th {\n",
       "        text-align: right;\n",
       "    }\n",
       "</style>\n",
       "<table border=\"1\" class=\"dataframe\">\n",
       "  <thead>\n",
       "    <tr style=\"text-align: right;\">\n",
       "      <th></th>\n",
       "      <th>Channel Title</th>\n",
       "      <th>Channel Username</th>\n",
       "      <th>ID</th>\n",
       "      <th>Message</th>\n",
       "      <th>Date</th>\n",
       "      <th>Media Path</th>\n",
       "    </tr>\n",
       "  </thead>\n",
       "  <tbody>\n",
       "    <tr>\n",
       "      <th>0</th>\n",
       "      <td>CheMed</td>\n",
       "      <td>@CheMed123</td>\n",
       "      <td>97</td>\n",
       "      <td>⚠️Notice!\\nDear esteemed customers,\\nDue to fo...</td>\n",
       "      <td>2023-02-10 12:23:06+00:00</td>\n",
       "      <td>../week 7 data/scrapped TG data/photos\\@CheMed...</td>\n",
       "    </tr>\n",
       "    <tr>\n",
       "      <th>1</th>\n",
       "      <td>CheMed</td>\n",
       "      <td>@CheMed123</td>\n",
       "      <td>96</td>\n",
       "      <td>Mela-One በውስጡ ሆርሞን ያለው ድንገተኛ ወሊድ መቆጣጠርያ ሲሆን ያለ...</td>\n",
       "      <td>2023-02-02 08:58:52+00:00</td>\n",
       "      <td>../week 7 data/scrapped TG data/photos\\@CheMed...</td>\n",
       "    </tr>\n",
       "  </tbody>\n",
       "</table>\n",
       "</div>"
      ],
      "text/plain": [
       "  Channel Title Channel Username  ID  \\\n",
       "0        CheMed       @CheMed123  97   \n",
       "1        CheMed       @CheMed123  96   \n",
       "\n",
       "                                             Message  \\\n",
       "0  ⚠️Notice!\\nDear esteemed customers,\\nDue to fo...   \n",
       "1  Mela-One በውስጡ ሆርሞን ያለው ድንገተኛ ወሊድ መቆጣጠርያ ሲሆን ያለ...   \n",
       "\n",
       "                        Date  \\\n",
       "0  2023-02-10 12:23:06+00:00   \n",
       "1  2023-02-02 08:58:52+00:00   \n",
       "\n",
       "                                          Media Path  \n",
       "0  ../week 7 data/scrapped TG data/photos\\@CheMed...  \n",
       "1  ../week 7 data/scrapped TG data/photos\\@CheMed...  "
      ]
     },
     "execution_count": 129,
     "metadata": {},
     "output_type": "execute_result"
    }
   ],
   "source": [
    "data.head(2)"
   ]
  },
  {
   "cell_type": "code",
   "execution_count": 130,
   "metadata": {},
   "outputs": [],
   "source": [
    "# Instantiate Data Cleaner object\n",
    "cleaner = DataCleaner(data)"
   ]
  },
  {
   "cell_type": "code",
   "execution_count": 131,
   "metadata": {},
   "outputs": [
    {
     "name": "stdout",
     "output_type": "stream",
     "text": [
      "2025-01-31 13:59:43,878 - INFO - Removing new lines from column: Message.\n"
     ]
    },
    {
     "name": "stdout",
     "output_type": "stream",
     "text": [
      "2025-01-31 13:59:43,907 - INFO - New lines removed from column: Message.\n"
     ]
    }
   ],
   "source": [
    "# remove New lines\n",
    "cleaner.remove_new_lines('Message')"
   ]
  },
  {
   "cell_type": "code",
   "execution_count": 132,
   "metadata": {},
   "outputs": [
    {
     "name": "stdout",
     "output_type": "stream",
     "text": [
      "2025-01-31 13:59:46,048 - INFO - Transforming datetime column 'Date' to timezone 'None'.\n",
      "2025-01-31 13:59:46,052 - INFO - Datetime transformation for column 'Date' completed.\n"
     ]
    }
   ],
   "source": [
    "# Convert Date and Time\n",
    "cleaner.transform_datetime('Date', None)"
   ]
  },
  {
   "cell_type": "code",
   "execution_count": 133,
   "metadata": {},
   "outputs": [
    {
     "name": "stdout",
     "output_type": "stream",
     "text": [
      "2025-01-31 13:59:48,198 - INFO - Converting column 'ID' to integer.\n",
      "2025-01-31 13:59:48,200 - INFO - Column 'ID' successfully converted to integer.\n"
     ]
    }
   ],
   "source": [
    "# convet Id to intiger\n",
    "cleaner.convert_column_to_integer('ID')"
   ]
  },
  {
   "cell_type": "code",
   "execution_count": 134,
   "metadata": {},
   "outputs": [
    {
     "name": "stdout",
     "output_type": "stream",
     "text": [
      "2025-01-31 13:59:50,901 - INFO - Extracting YouTube links from column 'Message' to 'Youtube Links'.\n",
      "2025-01-31 13:59:50,905 - INFO - YouTube links extracted and stored in column 'Youtube Links'.\n"
     ]
    }
   ],
   "source": [
    "cleaner.extract_youtube_links(source_column = 'Message', new_column='Youtube Links')"
   ]
  },
  {
   "cell_type": "code",
   "execution_count": 135,
   "metadata": {},
   "outputs": [
    {
     "name": "stdout",
     "output_type": "stream",
     "text": [
      "2025-01-31 13:59:54,329 - INFO - Filling null values in columns: ['Message', 'Media Path', 'Youtube Links'].\n",
      "2025-01-31 13:59:54,333 - INFO - Found 0 NaN and 502 'nan' strings in 'Message', replacing them.\n",
      "2025-01-31 13:59:54,333 - INFO - Successfully replaced missing values in 'Message'.\n",
      "2025-01-31 13:59:54,351 - INFO - Found 769 NaN and 769 'nan' strings in 'Media Path', replacing them.\n",
      "2025-01-31 13:59:54,357 - INFO - Successfully replaced missing values in 'Media Path'.\n",
      "2025-01-31 13:59:54,361 - INFO - Found 3629 NaN and 3629 'nan' strings in 'Youtube Links', replacing them.\n",
      "2025-01-31 13:59:54,367 - INFO - Successfully replaced missing values in 'Youtube Links'.\n"
     ]
    }
   ],
   "source": [
    "# Fill null values with 'no {column}' text\n",
    "cleaner.fill_null_values(columns=['Message', 'Media Path', 'Youtube Links'])"
   ]
  },
  {
   "cell_type": "code",
   "execution_count": 136,
   "metadata": {},
   "outputs": [
    {
     "name": "stdout",
     "output_type": "stream",
     "text": [
      "2025-01-31 14:00:05,006 - INFO - Removing emojis from column: Message.\n",
      "2025-01-31 14:00:05,080 - INFO - Emojis removed from column: Message.\n"
     ]
    }
   ],
   "source": [
    "# remove emojies\n",
    "cleaner.remove_emojis('Message')"
   ]
  },
  {
   "cell_type": "code",
   "execution_count": 138,
   "metadata": {},
   "outputs": [
    {
     "data": {
      "text/html": [
       "<div>\n",
       "<style scoped>\n",
       "    .dataframe tbody tr th:only-of-type {\n",
       "        vertical-align: middle;\n",
       "    }\n",
       "\n",
       "    .dataframe tbody tr th {\n",
       "        vertical-align: top;\n",
       "    }\n",
       "\n",
       "    .dataframe thead th {\n",
       "        text-align: right;\n",
       "    }\n",
       "</style>\n",
       "<table border=\"1\" class=\"dataframe\">\n",
       "  <thead>\n",
       "    <tr style=\"text-align: right;\">\n",
       "      <th></th>\n",
       "      <th>Channel Title</th>\n",
       "      <th>Channel Username</th>\n",
       "      <th>ID</th>\n",
       "      <th>Message</th>\n",
       "      <th>Date</th>\n",
       "      <th>Media Path</th>\n",
       "      <th>Youtube Links</th>\n",
       "    </tr>\n",
       "  </thead>\n",
       "  <tbody>\n",
       "    <tr>\n",
       "      <th>0</th>\n",
       "      <td>CheMed</td>\n",
       "      <td>@CheMed123</td>\n",
       "      <td>97</td>\n",
       "      <td>Notice! Dear esteemed customers, Due to four-d...</td>\n",
       "      <td>2023-02-10 12:23:06</td>\n",
       "      <td>../week 7 data/scrapped TG data/photos\\@CheMed...</td>\n",
       "      <td>no Youtube Links values</td>\n",
       "    </tr>\n",
       "    <tr>\n",
       "      <th>1</th>\n",
       "      <td>CheMed</td>\n",
       "      <td>@CheMed123</td>\n",
       "      <td>96</td>\n",
       "      <td>Mela-One በውስጡ ሆርሞን ያለው ድንገተኛ ወሊድ መቆጣጠርያ ሲሆን ያለ...</td>\n",
       "      <td>2023-02-02 08:58:52</td>\n",
       "      <td>../week 7 data/scrapped TG data/photos\\@CheMed...</td>\n",
       "      <td>no Youtube Links values</td>\n",
       "    </tr>\n",
       "  </tbody>\n",
       "</table>\n",
       "</div>"
      ],
      "text/plain": [
       "  Channel Title Channel Username  ID  \\\n",
       "0        CheMed       @CheMed123  97   \n",
       "1        CheMed       @CheMed123  96   \n",
       "\n",
       "                                             Message                Date  \\\n",
       "0  Notice! Dear esteemed customers, Due to four-d... 2023-02-10 12:23:06   \n",
       "1  Mela-One በውስጡ ሆርሞን ያለው ድንገተኛ ወሊድ መቆጣጠርያ ሲሆን ያለ... 2023-02-02 08:58:52   \n",
       "\n",
       "                                          Media Path            Youtube Links  \n",
       "0  ../week 7 data/scrapped TG data/photos\\@CheMed...  no Youtube Links values  \n",
       "1  ../week 7 data/scrapped TG data/photos\\@CheMed...  no Youtube Links values  "
      ]
     },
     "execution_count": 138,
     "metadata": {},
     "output_type": "execute_result"
    }
   ],
   "source": [
    "data.head(2)"
   ]
  },
  {
   "cell_type": "code",
   "execution_count": 139,
   "metadata": {},
   "outputs": [
    {
     "name": "stdout",
     "output_type": "stream",
     "text": [
      "2025-01-31 14:00:43,998 - INFO - Standardizing column names.\n",
      "2025-01-31 14:00:43,999 - INFO - Column names standardized successfully.\n"
     ]
    },
    {
     "data": {
      "text/plain": [
       "Index(['channel_title', 'channel_username', 'id', 'message', 'date',\n",
       "       'media_path', 'youtube_links'],\n",
       "      dtype='object')"
      ]
     },
     "execution_count": 139,
     "metadata": {},
     "output_type": "execute_result"
    }
   ],
   "source": [
    "# standardize columns to lowercase and replace newlines by underscore\n",
    "cleaner.standardize_column_names()\n",
    "data.columns"
   ]
  },
  {
   "cell_type": "code",
   "execution_count": 140,
   "metadata": {},
   "outputs": [
    {
     "name": "stdout",
     "output_type": "stream",
     "text": [
      "2025-01-31 14:00:57,611 - INFO - Checking for missing values in the DataFrame.\n",
      "2025-01-31 14:00:57,614 - INFO - Missing values check completed.\n"
     ]
    },
    {
     "data": {
      "text/html": [
       "<div>\n",
       "<style scoped>\n",
       "    .dataframe tbody tr th:only-of-type {\n",
       "        vertical-align: middle;\n",
       "    }\n",
       "\n",
       "    .dataframe tbody tr th {\n",
       "        vertical-align: top;\n",
       "    }\n",
       "\n",
       "    .dataframe thead th {\n",
       "        text-align: right;\n",
       "    }\n",
       "</style>\n",
       "<table border=\"1\" class=\"dataframe\">\n",
       "  <thead>\n",
       "    <tr style=\"text-align: right;\">\n",
       "      <th></th>\n",
       "      <th>Column</th>\n",
       "      <th>Missing Values</th>\n",
       "      <th>Missing Percentage</th>\n",
       "      <th>Data Type</th>\n",
       "    </tr>\n",
       "  </thead>\n",
       "  <tbody>\n",
       "    <tr>\n",
       "      <th>0</th>\n",
       "      <td>channel_title</td>\n",
       "      <td>0</td>\n",
       "      <td>0.0</td>\n",
       "      <td>object</td>\n",
       "    </tr>\n",
       "    <tr>\n",
       "      <th>1</th>\n",
       "      <td>channel_username</td>\n",
       "      <td>0</td>\n",
       "      <td>0.0</td>\n",
       "      <td>object</td>\n",
       "    </tr>\n",
       "    <tr>\n",
       "      <th>2</th>\n",
       "      <td>id</td>\n",
       "      <td>0</td>\n",
       "      <td>0.0</td>\n",
       "      <td>int32</td>\n",
       "    </tr>\n",
       "    <tr>\n",
       "      <th>3</th>\n",
       "      <td>message</td>\n",
       "      <td>0</td>\n",
       "      <td>0.0</td>\n",
       "      <td>object</td>\n",
       "    </tr>\n",
       "    <tr>\n",
       "      <th>4</th>\n",
       "      <td>date</td>\n",
       "      <td>0</td>\n",
       "      <td>0.0</td>\n",
       "      <td>datetime64[ns]</td>\n",
       "    </tr>\n",
       "    <tr>\n",
       "      <th>5</th>\n",
       "      <td>media_path</td>\n",
       "      <td>0</td>\n",
       "      <td>0.0</td>\n",
       "      <td>object</td>\n",
       "    </tr>\n",
       "    <tr>\n",
       "      <th>6</th>\n",
       "      <td>youtube_links</td>\n",
       "      <td>0</td>\n",
       "      <td>0.0</td>\n",
       "      <td>object</td>\n",
       "    </tr>\n",
       "  </tbody>\n",
       "</table>\n",
       "</div>"
      ],
      "text/plain": [
       "             Column  Missing Values  Missing Percentage       Data Type\n",
       "0     channel_title               0                 0.0          object\n",
       "1  channel_username               0                 0.0          object\n",
       "2                id               0                 0.0           int32\n",
       "3           message               0                 0.0          object\n",
       "4              date               0                 0.0  datetime64[ns]\n",
       "5        media_path               0                 0.0          object\n",
       "6     youtube_links               0                 0.0          object"
      ]
     },
     "execution_count": 140,
     "metadata": {},
     "output_type": "execute_result"
    }
   ],
   "source": [
    "cleaner.check_missing_values()"
   ]
  },
  {
   "cell_type": "code",
   "execution_count": 141,
   "metadata": {},
   "outputs": [],
   "source": [
    "# save dataframe to new csv file keep the utf-8-sig format\n",
    "data.to_csv('../week 7 data/scrapped TG data/cleaned_scrapped_telegram_data.csv', encoding='utf-8-sig', index=False)"
   ]
  },
  {
   "cell_type": "code",
   "execution_count": null,
   "metadata": {},
   "outputs": [],
   "source": []
  }
 ],
 "metadata": {
  "kernelspec": {
   "display_name": "z_env",
   "language": "python",
   "name": "python3"
  },
  "language_info": {
   "codemirror_mode": {
    "name": "ipython",
    "version": 3
   },
   "file_extension": ".py",
   "mimetype": "text/x-python",
   "name": "python",
   "nbconvert_exporter": "python",
   "pygments_lexer": "ipython3",
   "version": "3.12.3"
  }
 },
 "nbformat": 4,
 "nbformat_minor": 2
}
